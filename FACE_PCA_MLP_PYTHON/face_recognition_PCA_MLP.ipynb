{
 "cells": [
  {
   "cell_type": "markdown",
   "metadata": {},
   "source": [
    " <====================    ==      BRAIN TELS LABS    ==  ==========================================>\n",
    "                 RECONOCIMIENTO DE ROSTROS MEDIANTE PCA Y REDES NEURONALES MULTICAPA"
   ]
  },
  {
   "cell_type": "code",
   "execution_count": 1,
   "metadata": {},
   "outputs": [
    {
     "name": "stdout",
     "output_type": "stream",
     "text": [
      "58\n",
      "[11, 12, 11, 24]\n",
      "(58, 768)\n",
      "(58, 4)\n"
     ]
    }
   ],
   "source": [
    "#============================BRAINTELS LABS===============================\n",
    "#IMAGE PROCESSING  , ARTIFICIAL INTELLIGENCE AND EMBEDDED SYSTEMS \n",
    "\n",
    "#IMPORTAR HERRAMIENTAS NECESARIAS\n",
    "from sklearn.decomposition import PCA \n",
    "import os\n",
    "import numpy as np\n",
    "from matplotlib import pyplot as plt\n",
    "\n",
    "#lista con los nombres de personas \n",
    "nombres=[\"ann_veneman_\",\"adrien_brody_\",\"richard_gephardt_\",\"winona_ryder_\"]\n",
    "path=os.getcwd()\n",
    "datas=[]\n",
    "\n",
    "for na in nombres:\n",
    "    #CONSEGUIR LA CANTIDAD DE ELEMENTOS DEL DATASET\n",
    "    N=len(os.listdir(os.path.join(\"personas/\",na)))\n",
    "    datas.append(N)\n",
    "#NÚMERO DE MUESTRAS DISPONIBLES DE TODO EL DATASET\n",
    "Ns=0\n",
    "#DETERMINAR LA CANTIDAD DE MUESTRAS\n",
    "for a in datas:\n",
    "    Ns=a+Ns\n",
    "print(Ns)\n",
    "print(datas)\n",
    "#CREAR LAS ENTRDAS DESEADAS DE LAS IMAGENES \n",
    "#PARAMETRO PARA DETERMINAR LOS COMPONENTES PRINCIPALES DE LA IMAGEN DE ENTRADA \n",
    "feat=12\n",
    "#CONSTRUIR MATRIZ DE Ns x feat*64\n",
    "X=np.zeros((Ns,int(feat*64)))\n",
    "\n",
    "#crear objeto PCA para reducir las dimensiones \n",
    "pca=PCA(n_components=12) \n",
    "\n",
    "ctt=0\n",
    "\n",
    "for na in nombres:\n",
    "    #cada nombre\n",
    "    faces=os.listdir(os.path.join(\"personas/\",na))\n",
    "    #print(faces)\n",
    "    for im in faces:\n",
    "        #leer la imagen\n",
    "        Igray=plt.imread(os.path.join(\"personas/\",na,im))\n",
    "        #realizar el uso de la reducción de dimensiones mediante PCA\n",
    "        Xf=pca.fit_transform(Igray)\n",
    "        #realizar el proceso de flatten al array\n",
    "        Xf=Xf.reshape((1,feat*64))\n",
    "        #agregar el array Xf\n",
    "        X[ctt,:]=Xf\n",
    "        #contador + 1\n",
    "        ctt=ctt+1\n",
    "#Mostrar forma del arreglo\n",
    "print(X.shape)\n",
    "#lista vacia\n",
    "t=[]\n",
    "#para cada dato\n",
    "for val ,it in zip(datas,range(len(datas))):\n",
    "    \n",
    "    for i in range(val):\n",
    "        t.append(it)\n",
    "\n",
    "#definir función one_hot_encoding(t,N)\n",
    "def one_hot_encoding(t,N=None):\n",
    "    S=len(t)\n",
    "    if N is None:\n",
    "        print(\"ERROR\")\n",
    "    else:\n",
    "        #obtener la información de los elementos de la lista t\n",
    "        T=np.zeros((S,N),dtype=np.uint8)\n",
    "        #realizar un recorrido sobre cada elemento de la lista t\n",
    "        for v,i in zip(t,range(S)):\n",
    "            if v <N and isinstance(v,int):\n",
    "                #si i es un valor menor que el parametro S cantidad de muestras\n",
    "                T[i,v]=1\n",
    "            else:\n",
    "                break\n",
    "        return T\n",
    "#convertir los labels en matriz mediante el método de one-hot-encoding\n",
    "T=one_hot_encoding(t,N=4)\n",
    "print(T.shape)\n"
   ]
  },
  {
   "cell_type": "code",
   "execution_count": 2,
   "metadata": {},
   "outputs": [
    {
     "name": "stdout",
     "output_type": "stream",
     "text": [
      "Iteration 1, loss = 22.35048167\n",
      "Validation score: 0.250000\n",
      "Iteration 2, loss = 14.25070363\n",
      "Validation score: 0.250000\n",
      "Iteration 3, loss = 1.76714969\n",
      "Validation score: 0.250000\n",
      "Iteration 4, loss = 0.28068900\n",
      "Validation score: 0.250000\n",
      "Iteration 5, loss = 0.58142618\n",
      "Validation score: 0.250000\n",
      "Iteration 6, loss = 0.32722495\n",
      "Validation score: 0.250000\n",
      "Iteration 7, loss = 0.11444475\n",
      "Validation score: 0.250000\n",
      "Iteration 8, loss = 0.14670263\n",
      "Validation score: 0.250000\n",
      "Iteration 9, loss = 0.01619360\n",
      "Validation score: 0.250000\n",
      "Iteration 10, loss = 0.00122788\n",
      "Validation score: 0.250000\n",
      "Iteration 11, loss = 0.00114767\n",
      "Validation score: 0.250000\n",
      "Iteration 12, loss = 0.00123429\n",
      "Validation score: 0.250000\n",
      "Iteration 13, loss = 0.00152556\n",
      "Validation score: 0.250000\n",
      "Iteration 14, loss = 0.00137499\n",
      "Validation score: 0.500000\n",
      "Iteration 15, loss = 0.00109868\n",
      "Validation score: 0.500000\n",
      "Iteration 16, loss = 0.00099946\n",
      "Validation score: 0.500000\n",
      "Iteration 17, loss = 0.00100143\n",
      "Validation score: 0.500000\n",
      "Iteration 18, loss = 0.00121734\n",
      "Validation score: 0.500000\n",
      "Iteration 19, loss = 0.00143824\n",
      "Validation score: 0.500000\n",
      "Iteration 20, loss = 0.00102922\n",
      "Validation score: 0.250000\n",
      "Iteration 21, loss = 0.00098433\n",
      "Validation score: 0.250000\n",
      "Iteration 22, loss = 0.00098096\n",
      "Validation score: 0.250000\n",
      "Iteration 23, loss = 0.00097980\n",
      "Validation score: 0.250000\n",
      "Iteration 24, loss = 0.00097899\n",
      "Validation score: 0.250000\n",
      "Iteration 25, loss = 0.00097609\n",
      "Validation score: 0.250000\n",
      "Iteration 26, loss = 0.00097177\n",
      "Validation score: 0.250000\n",
      "Iteration 27, loss = 0.00096683\n",
      "Validation score: 0.250000\n",
      "Iteration 28, loss = 0.00096192\n",
      "Validation score: 0.250000\n",
      "Iteration 29, loss = 0.00095747\n",
      "Validation score: 0.250000\n",
      "Iteration 30, loss = 0.00095339\n",
      "Validation score: 0.250000\n",
      "Iteration 31, loss = 0.00095013\n",
      "Validation score: 0.250000\n",
      "Iteration 32, loss = 0.00094759\n",
      "Validation score: 0.250000\n",
      "Iteration 33, loss = 0.00094564\n",
      "Validation score: 0.250000\n",
      "Iteration 34, loss = 0.00094416\n",
      "Validation score: 0.250000\n",
      "Iteration 35, loss = 0.00094304\n",
      "Validation score: 0.250000\n",
      "Iteration 36, loss = 0.00094220\n",
      "Validation score: 0.250000\n",
      "Iteration 37, loss = 0.00094157\n",
      "Validation score: 0.250000\n",
      "Iteration 38, loss = 0.00094110\n",
      "Validation score: 0.250000\n",
      "Iteration 39, loss = 0.00094074\n",
      "Validation score: 0.250000\n",
      "Iteration 40, loss = 0.00094046\n",
      "Validation score: 0.250000\n",
      "Validation score did not improve more than tol=0.000010 for 25 consecutive epochs. Stopping.\n"
     ]
    },
    {
     "data": {
      "text/plain": [
       "MLPClassifier(activation='relu', alpha=0.0001, batch_size='auto', beta_1=0.9,\n",
       "       beta_2=0.999, early_stopping=True, epsilon=1e-08,\n",
       "       hidden_layer_sizes=(300, 100, 40), learning_rate='constant',\n",
       "       learning_rate_init=0.002, max_iter=1200, momentum=0.9,\n",
       "       n_iter_no_change=25, nesterovs_momentum=True, power_t=0.5,\n",
       "       random_state=None, shuffle=True, solver='adam', tol=1e-05,\n",
       "       validation_fraction=0.1, verbose=True, warm_start=False)"
      ]
     },
     "execution_count": 2,
     "metadata": {},
     "output_type": "execute_result"
    }
   ],
   "source": [
    "from sklearn.model_selection import train_test_split as tts\n",
    "from sklearn.metrics import confusion_matrix\n",
    "from sklearn.metrics import accuracy_score\n",
    "from sklearn.neural_network import MLPClassifier\n",
    "\n",
    "#obtener el conjunto de entrenamiento y validación\n",
    "X_train,X_val,Y_train,Y_val=tts(X,T,test_size=0.3)\n",
    "\n",
    "#=========================CREAR EL MODELO DE RED NEURONAL  ==================\n",
    "network=MLPClassifier(hidden_layer_sizes=(300,100,40),learning_rate_init=0.002,max_iter=1200,\n",
    "                      solver=\"adam\",activation=\"relu\",early_stopping=True,tol=0.00001 ,\n",
    "                      verbose=True,n_iter_no_change=25)\n",
    "\n",
    "#===MÉTODO fit PARA REALIZAR EL ENTRENAMIENTO DE LA RED NEURONAL\n",
    "network.fit(X_train,Y_train)\n"
   ]
  },
  {
   "cell_type": "markdown",
   "metadata": {},
   "source": [
    "VALIDACIÓN CON LOS DATOS DE TRAINING Y TESTING"
   ]
  },
  {
   "cell_type": "code",
   "execution_count": 3,
   "metadata": {},
   "outputs": [
    {
     "name": "stdout",
     "output_type": "stream",
     "text": [
      "======MATRIZ DE CONFUSIÓN======\n",
      "[[ 8  0  0  0]\n",
      " [ 0 10  0  1]\n",
      " [ 0  0  7  0]\n",
      " [ 0  0  1 13]]\n",
      "EXACTITUD: 95.0 %\n"
     ]
    }
   ],
   "source": [
    "#====REALIZAR LA PREDICCIÓN MEDIANTE EL USO DE LOS DATOS DE VALIDACIÓN\n",
    "Yr=network.predict(X_train)\n",
    "#convertir Yr a yr\n",
    "yr=np.argmax(Yr,axis=1)\n",
    "\n",
    "tr=np.argmax(Y_train,axis=1)\n",
    "#====Uso de la matriz de confusión para obtener la metrica\n",
    "\n",
    "acc=accuracy_score(yr,tr)\n",
    "print(\"======MATRIZ DE CONFUSIÓN======\")\n",
    "\n",
    "cfm=confusion_matrix(yr,tr)\n",
    "\n",
    "print(cfm)\n",
    "\n",
    "print(\"EXACTITUD:\",100*acc,\"%\")"
   ]
  },
  {
   "cell_type": "code",
   "execution_count": 4,
   "metadata": {},
   "outputs": [
    {
     "data": {
      "image/png": "[encoded data removed]",
      "text/plain": [
       "<Figure size 432x360 with 4 Axes>"
      ]
     },
     "metadata": {
      "needs_background": "light"
     },
     "output_type": "display_data"
    }
   ],
   "source": [
    "nombres=[\"ann_veneman_\",\"adrien_brody_\",\"richard_gephardt_\",\"winona_ryder_\"]\n",
    "plt.figure(figsize=(6,5))\n",
    "plt.subplots_adjust(bottom=0, left=.01, right=.99, top=.90, hspace=.20)\n",
    "for i in range(4):\n",
    "    plt.subplot(1,4,i+1)\n",
    "    im=plt.imread(\"personas\"+\"/\"+nombres[i]+\"/\"+nombres[i]+\"1.pgm\")\n",
    "    plt.imshow(im,cmap=plt.cm.gray)\n",
    "    plt.axis(\"off\")\n",
    "    plt.title(nombres[i])\n",
    "    "
   ]
  },
  {
   "cell_type": "markdown",
   "metadata": {},
   "source": [
    " <====================          BRAIN TELS LABS       ==========================================>\n",
    " \n",
    " \n",
    "           Image Processing  , Artificial Intelligence & Embedded Systems "
   ]
  }
 ],
 "metadata": {
  "kernelspec": {
   "display_name": "Python 3",
   "language": "python",
   "name": "python3"
  },
  "language_info": {
   "codemirror_mode": {
    "name": "ipython",
    "version": 3
   },
   "file_extension": ".py",
   "mimetype": "text/x-python",
   "name": "python",
   "nbconvert_exporter": "python",
   "pygments_lexer": "ipython3",
   "version": "3.7.2"
  }
 },
 "nbformat": 4,
 "nbformat_minor": 2
}
